{
 "cells": [
  {
   "cell_type": "markdown",
   "metadata": {},
   "source": [
    "OUTLINE\n",
    "1. How to write a program that can accept user input\n",
    "2. While Loop\n",
    "3. Use translink public API to implement command line program that ca nretur arrival time"
   ]
  },
  {
   "cell_type": "markdown",
   "metadata": {},
   "source": [
    "-1- \n",
    "<br />Accept a String as an input"
   ]
  },
  {
   "cell_type": "code",
   "execution_count": 1,
   "metadata": {
    "scrolled": true
   },
   "outputs": [
    {
     "name": "stdout",
     "output_type": "stream",
     "text": [
      "please enter your name: R\n",
      "Hello, R!\n",
      "\n"
     ]
    }
   ],
   "source": [
    "name = input(\"please enter your name: \")\n",
    "#\\n means the next line\n",
    "print(\"Hello, \"+name+\"!\\n\")"
   ]
  },
  {
   "cell_type": "markdown",
   "metadata": {},
   "source": [
    "-2- \n",
    "<br />Accept an integer as an input"
   ]
  },
  {
   "cell_type": "code",
   "execution_count": null,
   "metadata": {},
   "outputs": [],
   "source": [
    "num = input(\"Enter a number, and I will tell you if it is even or odd: \")\n",
    "num = int(num)\n",
    "if num % 2 == 0:\n",
    "    print(\"The number \" + str(num) + \" is even\\n\")\n",
    "else:\n",
    "    print(\"The number \" + str(num) + \" is odd\\n\")"
   ]
  },
  {
   "cell_type": "markdown",
   "metadata": {},
   "source": [
    "-3-\n",
    "<br />How to let the program keep running?"
   ]
  },
  {
   "cell_type": "code",
   "execution_count": 1,
   "metadata": {},
   "outputs": [
    {
     "name": "stdout",
     "output_type": "stream",
     "text": [
      "Please enter your name: R\n",
      "Hello, R!\n",
      "\n",
      "Nice to meet you, R!\n",
      "\n",
      "Please enter your name: enough\n",
      "Bye!!!\n"
     ]
    }
   ],
   "source": [
    "message = ''\n",
    "# let the program keep running \n",
    "while True: \n",
    "    message = input(\"Please enter your name: \")\n",
    "    if message == 'enough': # sign of stopping\n",
    "        print(\"Bye!!!\" )\n",
    "        break\n",
    "    # two ways of print() method\n",
    "    print(\"Hello, \" + message + \"!\\n\")\n",
    "    print(\"Nice to meet you, %s!\\n\"% message)"
   ]
  },
  {
   "cell_type": "markdown",
   "metadata": {},
   "source": [
    "<h2>Translink Open API/RTTI</h2>"
   ]
  },
  {
   "cell_type": "markdown",
   "metadata": {},
   "source": [
    "<h4>What is an API?</h4>\n",
    "<h4>An application program interface (API)</h4>\n",
    "<ul>\n",
    "    <li>It is a set of routines, protocols, and tools for building software applications.</li>\n",
    "    <li>Basically, an API specifies how software components should interact. </li>\n",
    "    <li>Additionally, APIs are used when programming graphical user interface (GUI) components.</li>\n",
    "</ul>"
   ]
  },
  {
   "cell_type": "markdown",
   "metadata": {},
   "source": [
    "<br />Request: something you send to translink.\n",
    "<br />Respond: something translink send you back according to the request\n",
    "\n",
    "<br />Error Codes: protocol\n",
    "    <ul>\n",
    "    <li>200 OK</li>\n",
    "    <li>404 Not Found</li>\n",
    "    <li>500 Internal Server Error</li>\n",
    "    <ul>"
   ]
  },
  {
   "cell_type": "markdown",
   "metadata": {},
   "source": [
    "<h4>Example Provided by Translink</h4>\n",
    "<br />https://api.translink.ca/rttiapi/v1/stops/60980/estimates?apikey=[APIKey]&count=3&timeframe=120&routeNo=050\n",
    "<br />- Returns the next 3 buses to service the stop in the next 2 hours for route 50\n",
    "\n",
    "<h4>The return value in JSON</h4>\n",
    "<br />[{\n",
    "<br />'RouteNo': '099', \n",
    "<br />'RouteName': 'COMMERCIAL-BROADWAY/UBC (B-LINE)', \n",
    "<br />'Direction': 'WEST', \n",
    "<br />'RouteMap': {'Href': 'https://nb.translink.ca/geodata/099.kmz'}, \n",
    "<br />'Schedules': [<ul>\n",
    "<li>{'Pattern': 'W1', 'Destination': 'UBC B-LINE', 'ExpectedLeaveTime': '1:57pm', 'ExpectedCountdown': 2, 'ScheduleStatus': '-', 'CancelledTrip': False, 'CancelledStop': False, 'AddedTrip': False, 'AddedStop': False, 'LastUpdate': '01:54:21 pm'},</li>\n",
    "<li>{'Pattern': 'W1', 'Destination': 'UBC B-LINE', 'ExpectedLeaveTime': '1:59pm', 'ExpectedCountdown': 4, 'ScheduleStatus': '-', 'CancelledTrip': False, 'CancelledStop': False, 'AddedTrip': False, 'AddedStop': False, 'LastUpdate': '01:55:19 pm'}, </li>\n",
    "<li>{'Pattern': 'W1', 'Destination': 'UBC B-LINE', 'ExpectedLeaveTime': '2:07pm', 'ExpectedCountdown': 13, 'ScheduleStatus': '-', 'CancelledTrip': False, 'CancelledStop': False, 'AddedTrip': False, 'AddedStop': False, 'LastUpdate': '01:54:17 pm'}</li>\n",
    "<ul>]\n",
    "}]"
   ]
  },
  {
   "cell_type": "code",
   "execution_count": 36,
   "metadata": {},
   "outputs": [
    {
     "name": "stdout",
     "output_type": "stream",
     "text": [
      "['2:24pm', '2:30pm', '2:37pm']\n"
     ]
    }
   ],
   "source": [
    "import requests\n",
    "def next_bus(stop_number, route_number,count =1):\n",
    "    \n",
    "    # return value\n",
    "    array = [];\n",
    "\n",
    "    # The API default is to return XML data, \n",
    "    # however, it can return JSON if the content-type: \n",
    "    # application/JSON or accept: application/JSON is set in the http request header.\n",
    "    response = requests.get('https://api.translink.ca/rttiapi/v1/stops/%s/estimates?apikey=%s&count=3&timeframe=120&routeNo=%s'\n",
    "                            %(stop_number,\"m4zxuD4sdV3WzyPM2g4m\", route_number),\n",
    "                            headers={'accept':'application/JSON'});\n",
    "\n",
    "    # validate the link\n",
    "    if response.status_code != 200:\n",
    "        print ('The request is invalid')\n",
    "        return\n",
    "        \n",
    "    json_data = response.json();\n",
    "    \n",
    "    # validate we get response\n",
    "    if len(json_data) == 0:\n",
    "        print('invalid input');\n",
    "        return\n",
    "        \n",
    "    for i in range(count):\n",
    "        array.append(json_data[0]['Schedules'][i]['ExpectedLeaveTime']);\n",
    "    return array\n",
    "    \n",
    "if __name__ == '__main__':\n",
    "    print(next_bus('61453','099',3));"
   ]
  }
 ],
 "metadata": {
  "kernelspec": {
   "display_name": "Python 3",
   "language": "python",
   "name": "python3"
  },
  "language_info": {
   "codemirror_mode": {
    "name": "ipython",
    "version": 3
   },
   "file_extension": ".py",
   "mimetype": "text/x-python",
   "name": "python",
   "nbconvert_exporter": "python",
   "pygments_lexer": "ipython3",
   "version": "3.7.4"
  }
 },
 "nbformat": 4,
 "nbformat_minor": 2
}
