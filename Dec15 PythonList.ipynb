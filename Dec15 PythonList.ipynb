{
 "cells": [
  {
   "cell_type": "markdown",
   "metadata": {},
   "source": [
    "# Python  (Henry Alex Wisley)"
   ]
  },
  {
   "cell_type": "markdown",
   "metadata": {},
   "source": [
    "Conditional statement\n",
    "\n",
    "    if ...else...\n",
    "\n",
    "    Switch"
   ]
  },
  {
   "cell_type": "markdown",
   "metadata": {},
   "source": [
    "# Function"
   ]
  },
  {
   "cell_type": "markdown",
   "metadata": {},
   "source": [
    "# List (Interface)"
   ]
  },
  {
   "cell_type": "markdown",
   "metadata": {},
   "source": [
    "Implementation\n",
    "\n",
    "    Array\n",
    "\n",
    "    Linked List"
   ]
  },
  {
   "cell_type": "markdown",
   "metadata": {},
   "source": [
    "List (Interface)"
   ]
  },
  {
   "cell_type": "markdown",
   "metadata": {},
   "source": [
    "Q1. What is a list?"
   ]
  },
  {
   "cell_type": "markdown",
   "metadata": {},
   "source": [
    "    A list is a collection of items in a particular order.\n",
    "    // List is ordered, and set: unordered"
   ]
  },
  {
   "cell_type": "markdown",
   "metadata": {},
   "source": [
    "Q2. How to create a list?"
   ]
  },
  {
   "cell_type": "code",
   "execution_count": 81,
   "metadata": {},
   "outputs": [],
   "source": [
    "def section_2():\n",
    "    print(\"____SECTION 2_____\")\n",
    "    l1_1 =[]\t\t    # Method1: ”[]” python built in operator\n",
    "    l1_2 =list()\t\t# Method1: use function to initialize\t\n",
    "    l2_1=[1,3,2]\n",
    "    l2_2=list([1,3,2])\n",
    "\n",
    "    num = 1000-100\n",
    "    L3 = list([num,2,3]);\n",
    "    print(l2_1);"
   ]
  },
  {
   "cell_type": "markdown",
   "metadata": {},
   "source": [
    "Q3. How to add elements in a list?"
   ]
  },
  {
   "cell_type": "code",
   "execution_count": 82,
   "metadata": {},
   "outputs": [],
   "source": [
    "def section_3():\n",
    "    print(\"____SECTION 3_____\")\n",
    "    l1=[]\n",
    "    l1.append(1)\t # add to tail\n",
    "    l1.append(2)\n",
    "    print(l1)\n",
    "    person=2\n",
    "    l1.insert(1,person)\t#insert(index,value),start with pos 0\n",
    "    print(l1)"
   ]
  },
  {
   "cell_type": "markdown",
   "metadata": {},
   "source": [
    "Q4. How to add access in a list?"
   ]
  },
  {
   "cell_type": "code",
   "execution_count": 83,
   "metadata": {},
   "outputs": [],
   "source": [
    "def section_4():\n",
    "    print(\"____SECTION 4_____\")\n",
    "    l1= [100,1,5,5,'str']\n",
    "    print(l1[0])          # access the first item\n",
    "    print(l1[-1])         # access the last item\n",
    "    print(l1[len(l1)-1])\n",
    "    print(l1)"
   ]
  },
  {
   "cell_type": "markdown",
   "metadata": {},
   "source": [
    "Q5: What is indexError in Python?"
   ]
  },
  {
   "cell_type": "code",
   "execution_count": 84,
   "metadata": {},
   "outputs": [],
   "source": [
    "def section_5():\n",
    "    print(\"____SECTION 5_____\")\n",
    "    l1= [100,1,5,5,'str']\n",
    "    #print(l1[len(l1)])    # out of range error; segmentation error\n",
    "    l1.insert(100,99)     # go to the last position\n",
    "    l1.insert(-100,99)    # go to the first position\n",
    "    print(l1)"
   ]
  },
  {
   "cell_type": "markdown",
   "metadata": {},
   "source": [
    "Q6: How to remove elements from a list?"
   ]
  },
  {
   "cell_type": "code",
   "execution_count": 85,
   "metadata": {},
   "outputs": [],
   "source": [
    "def section_6_1():\n",
    "    print(\"____SECTION 6_1 _____\")\n",
    "    l1=[100,1,4,4,'str']\n",
    "    l1.clear()\n",
    "    l1=[100,1,5,5,'str']\n",
    "    #l1.remove(2)   #valueError: the value we removed has to be in the list\n",
    "    l1.remove(5)   #remove firsr occurance of the value\n",
    "    print(l1)\n",
    "    \n",
    "def section_6_2():\n",
    "    print(\"____SECTION 6_2 _____\")\n",
    "    l1=[100,1,4,4,'str']\n",
    "    element1=l1.pop(0)    #access and remove\n",
    "    print(element1)\n",
    "    print(l1)\n",
    "    \n",
    "    element2=l1.pop() \n",
    "    print(element2)\n",
    "    print(l1)\n",
    "\n",
    "# queue stack list replationship"
   ]
  },
  {
   "cell_type": "markdown",
   "metadata": {},
   "source": [
    "Q7: How to organize a list?"
   ]
  },
  {
   "cell_type": "code",
   "execution_count": 86,
   "metadata": {},
   "outputs": [],
   "source": [
    "# sorting algorithm will be learnt in second year in university\n",
    "# difference between .sort() and .sorted()\n",
    "def section_7():\n",
    "    print(\"____SECTION 7_____\")\n",
    "    l1=[5,3,1,100]\n",
    "    l1.sort()\n",
    "    print(l1)\n",
    "    \n",
    "    l2=[5,3,1,100]\n",
    "    l3= sorted(l2)      \n",
    "    print(l2)\n",
    "    print(l3)\n",
    "    \n",
    "    l4=[5,3,1,1,6,1,100]\n",
    "    l4.sort(reverse=True)\n",
    "    \n",
    "    l5=[]\n",
    "    # same value different reference\n",
    "    l5=l4.copy()\n",
    "    print(l5)\n",
    "    # return number of elements\n",
    "    num_of_1=l4.count(1)\n",
    "    print(\"number of 1 is:\", num_of_1)\n",
    "    # return the index of the element\n",
    "    \n",
    "    index_of_1=l4.index(1)\n",
    "    print(\"first location of 1 is:\", index_of_1)"
   ]
  },
  {
   "cell_type": "markdown",
   "metadata": {},
   "source": [
    "Main Fuction"
   ]
  },
  {
   "cell_type": "code",
   "execution_count": 88,
   "metadata": {},
   "outputs": [
    {
     "name": "stdout",
     "output_type": "stream",
     "text": [
      "Hello World\n",
      "____SECTION 2_____\n",
      "[1, 3, 2]\n",
      "____SECTION 3_____\n",
      "[1, 2]\n",
      "[1, 2, 2]\n",
      "____SECTION 5_____\n",
      "[99, 100, 1, 5, 5, 'str', 99]\n",
      "____SECTION 6_1 _____\n",
      "[100, 1, 5, 'str']\n",
      "____SECTION 6_2 _____\n",
      "100\n",
      "[1, 4, 4, 'str']\n",
      "str\n",
      "[1, 4, 4]\n",
      "____SECTION 7_____\n",
      "[1, 3, 5, 100]\n",
      "[5, 3, 1, 100]\n",
      "[1, 3, 5, 100]\n",
      "[100, 6, 5, 3, 1, 1, 1]\n",
      "number of 1 is: 3\n",
      "first location of 1 is: 4\n"
     ]
    }
   ],
   "source": [
    "if __name__ == '__main__':\n",
    "    \n",
    "    section_1()\n",
    "    section_2()\n",
    "    section_3()\n",
    "    #section_4()\n",
    "    section_5()\n",
    "    section_6_1()\n",
    "    section_6_2()\n",
    "    section_7()"
   ]
  },
  {
   "cell_type": "markdown",
   "metadata": {},
   "source": [
    "HW: \n",
    "\n",
    "1. define a function that remove all occurance of a value from a list of integer.\n",
    "2. define a function creates a zero list with the given length\n",
    "3. Deine a fuction that finds a mode of a list"
   ]
  },
  {
   "cell_type": "code",
   "execution_count": 48,
   "metadata": {},
   "outputs": [],
   "source": [
    "def remove_all(a,l):\n",
    "    pass"
   ]
  },
  {
   "cell_type": "code",
   "execution_count": null,
   "metadata": {},
   "outputs": [],
   "source": []
  }
 ],
 "metadata": {
  "kernelspec": {
   "display_name": "Python 3",
   "language": "python",
   "name": "python3"
  },
  "language_info": {
   "codemirror_mode": {
    "name": "ipython",
    "version": 3
   },
   "file_extension": ".py",
   "mimetype": "text/x-python",
   "name": "python",
   "nbconvert_exporter": "python",
   "pygments_lexer": "ipython3",
   "version": "3.7.4"
  }
 },
 "nbformat": 4,
 "nbformat_minor": 2
}
